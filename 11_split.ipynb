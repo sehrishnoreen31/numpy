{
 "cells": [
  {
   "cell_type": "code",
   "execution_count": 1,
   "id": "2517f511",
   "metadata": {},
   "outputs": [],
   "source": [
    "import numpy as np"
   ]
  },
  {
   "cell_type": "code",
   "execution_count": 2,
   "id": "45d7d024",
   "metadata": {},
   "outputs": [],
   "source": [
    "arr = np.array([4,3,2,1,6,5,6,56,45])"
   ]
  },
  {
   "cell_type": "code",
   "execution_count": 9,
   "metadata": {},
   "outputs": [
    {
     "data": {
      "text/plain": [
       "[array([4, 3, 2, 1, 6]), array([ 5,  6, 56, 45])]"
      ]
     },
     "metadata": {},
     "output_type": "display_data"
    },
    {
     "data": {
      "text/plain": [
       "[array([4, 3, 2]), array([1, 6, 5]), array([ 6, 56, 45])]"
      ]
     },
     "metadata": {},
     "output_type": "display_data"
    },
    {
     "data": {
      "text/plain": [
       "[array([4, 3]), array([2, 1]), array([6, 5]), array([ 6, 56]), array([45])]"
      ]
     },
     "metadata": {},
     "output_type": "display_data"
    }
   ],
   "source": [
    "# split arrays into parts\n",
    "split1 = np.array_split(arr, 2) # two parts\n",
    "display(split1)\n",
    "split2 = np.array_split(arr, 3) # 3 parts\n",
    "display(split2)\n",
    "split3 = np.array_split(arr, 5) # 4 parts\n",
    "display(split3)"
   ]
  },
  {
   "cell_type": "code",
   "execution_count": 10,
   "id": "91f5af0b",
   "metadata": {},
   "outputs": [
    {
     "data": {
      "text/plain": [
       "array([4, 3])"
      ]
     },
     "metadata": {},
     "output_type": "display_data"
    },
    {
     "data": {
      "text/plain": [
       "array([2, 1])"
      ]
     },
     "metadata": {},
     "output_type": "display_data"
    },
    {
     "data": {
      "text/plain": [
       "array([6, 5])"
      ]
     },
     "metadata": {},
     "output_type": "display_data"
    },
    {
     "data": {
      "text/plain": [
       "array([ 6, 56])"
      ]
     },
     "metadata": {},
     "output_type": "display_data"
    },
    {
     "data": {
      "text/plain": [
       "array([45])"
      ]
     },
     "metadata": {},
     "output_type": "display_data"
    }
   ],
   "source": [
    "display(split3[0])\n",
    "display(split3[1])\n",
    "display(split3[2])\n",
    "display(split3[3])\n",
    "display(split3[4])"
   ]
  },
  {
   "cell_type": "code",
   "execution_count": 17,
   "id": "4d9f4266",
   "metadata": {},
   "outputs": [],
   "source": [
    "# 2d array split\n",
    "arr_2d = np.array([[1, 2, 3], [4, 5, 6], [7, 8, 9], [10, 11, 12], [13, 14, 15], [16, 17, 18]])\n",
    "split_2d = np.array_split(arr_2d, 3)"
   ]
  },
  {
   "cell_type": "code",
   "execution_count": 18,
   "id": "fd2b80da",
   "metadata": {},
   "outputs": [
    {
     "data": {
      "text/plain": [
       "array([[1, 2, 3],\n",
       "       [4, 5, 6]])"
      ]
     },
     "metadata": {},
     "output_type": "display_data"
    },
    {
     "data": {
      "text/plain": [
       "array([[ 7,  8,  9],\n",
       "       [10, 11, 12]])"
      ]
     },
     "metadata": {},
     "output_type": "display_data"
    },
    {
     "data": {
      "text/plain": [
       "array([[13, 14, 15],\n",
       "       [16, 17, 18]])"
      ]
     },
     "metadata": {},
     "output_type": "display_data"
    }
   ],
   "source": [
    "display(split_2d[0])\n",
    "display(split_2d[1])\n",
    "display(split_2d[2])"
   ]
  },
  {
   "cell_type": "code",
   "execution_count": 23,
   "id": "ef9f3ba5",
   "metadata": {},
   "outputs": [
    {
     "data": {
      "text/plain": [
       "array([[ 1,  2],\n",
       "       [ 4,  5],\n",
       "       [ 7,  8],\n",
       "       [10, 11],\n",
       "       [13, 14],\n",
       "       [16, 17]])"
      ]
     },
     "metadata": {},
     "output_type": "display_data"
    },
    {
     "data": {
      "text/plain": [
       "array([[ 3],\n",
       "       [ 6],\n",
       "       [ 9],\n",
       "       [12],\n",
       "       [15],\n",
       "       [18]])"
      ]
     },
     "metadata": {},
     "output_type": "display_data"
    },
    {
     "data": {
      "text/plain": [
       "array([[1, 2, 3],\n",
       "       [4, 5, 6],\n",
       "       [7, 8, 9]])"
      ]
     },
     "metadata": {},
     "output_type": "display_data"
    },
    {
     "data": {
      "text/plain": [
       "array([[10, 11, 12],\n",
       "       [13, 14, 15],\n",
       "       [16, 17, 18]])"
      ]
     },
     "metadata": {},
     "output_type": "display_data"
    }
   ],
   "source": [
    "# split along axis=1\n",
    "arr = np.array([[1, 2, 3], [4, 5, 6], [7, 8, 9], [10, 11, 12], [13, 14, 15], [16, 17, 18]])\n",
    "split_axis_1 = np.array_split(arr, 2, axis=1)\n",
    "display(split_axis_1[0])\n",
    "display(split_axis_1[1])\n",
    "# split along axis=0\n",
    "arr = np.array([[1, 2, 3], [4, 5, 6], [7, 8, 9], [10, 11, 12], [13, 14, 15], [16, 17, 18]])\n",
    "split_axis_2 = np.array_split(arr, 2, axis=0)\n",
    "display(split_axis_2[0])\n",
    "display(split_axis_2[1])\n"
   ]
  },
  {
   "cell_type": "code",
   "execution_count": 31,
   "id": "d36dea19",
   "metadata": {},
   "outputs": [
    {
     "data": {
      "text/plain": [
       "array([[ 1],\n",
       "       [ 4],\n",
       "       [ 7],\n",
       "       [10],\n",
       "       [13],\n",
       "       [16]])"
      ]
     },
     "metadata": {},
     "output_type": "display_data"
    },
    {
     "data": {
      "text/plain": [
       "array([[ 2],\n",
       "       [ 5],\n",
       "       [ 8],\n",
       "       [11],\n",
       "       [14],\n",
       "       [17]])"
      ]
     },
     "metadata": {},
     "output_type": "display_data"
    },
    {
     "data": {
      "text/plain": [
       "array([[ 3],\n",
       "       [ 6],\n",
       "       [ 9],\n",
       "       [12],\n",
       "       [15],\n",
       "       [18]])"
      ]
     },
     "metadata": {},
     "output_type": "display_data"
    },
    {
     "data": {
      "text/plain": [
       "array([[1, 2, 3],\n",
       "       [4, 5, 6]])"
      ]
     },
     "metadata": {},
     "output_type": "display_data"
    },
    {
     "data": {
      "text/plain": [
       "array([[ 7,  8,  9],\n",
       "       [10, 11, 12]])"
      ]
     },
     "metadata": {},
     "output_type": "display_data"
    },
    {
     "data": {
      "text/plain": [
       "array([[13, 14, 15],\n",
       "       [16, 17, 18]])"
      ]
     },
     "metadata": {},
     "output_type": "display_data"
    },
    {
     "data": {
      "text/plain": [
       "array([[[ 1],\n",
       "        [ 4],\n",
       "        [ 7],\n",
       "        [10],\n",
       "        [13],\n",
       "        [16]]])"
      ]
     },
     "metadata": {},
     "output_type": "display_data"
    },
    {
     "data": {
      "text/plain": [
       "array([[[ 2],\n",
       "        [ 5],\n",
       "        [ 8],\n",
       "        [11],\n",
       "        [14],\n",
       "        [17]]])"
      ]
     },
     "metadata": {},
     "output_type": "display_data"
    },
    {
     "data": {
      "text/plain": [
       "array([[[ 3],\n",
       "        [ 6],\n",
       "        [ 9],\n",
       "        [12],\n",
       "        [15],\n",
       "        [18]]])"
      ]
     },
     "metadata": {},
     "output_type": "display_data"
    }
   ],
   "source": [
    "# hsplit, split along columns\n",
    "h_split = np.hsplit(arr, 3)\n",
    "display(h_split[0])\n",
    "display(h_split[1])\n",
    "display(h_split[2])\n",
    "# vsplit, split along rows\n",
    "v_split = np.vsplit(arr, 3)\n",
    "display(v_split[0])\n",
    "display(v_split[1])\n",
    "display(v_split[2])\n",
    "# dsplit, split along depth\n",
    "arr3 = np.array([[[1, 2, 3], [4, 5, 6], [7, 8, 9], [10, 11, 12], [13, 14, 15], [16, 17, 18]]])\n",
    "d_split = np.dsplit(arr3, 3)\n",
    "display(d_split[0])\n",
    "display(d_split[1])\n",
    "display(d_split[2])"
   ]
  }
 ],
 "metadata": {
  "kernelspec": {
   "display_name": ".venv",
   "language": "python",
   "name": "python3"
  },
  "language_info": {
   "codemirror_mode": {
    "name": "ipython",
    "version": 3
   },
   "file_extension": ".py",
   "mimetype": "text/x-python",
   "name": "python",
   "nbconvert_exporter": "python",
   "pygments_lexer": "ipython3",
   "version": "3.13.5"
  }
 },
 "nbformat": 4,
 "nbformat_minor": 5
}
