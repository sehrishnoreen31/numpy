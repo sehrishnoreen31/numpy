{
 "cells": [
  {
   "cell_type": "code",
   "execution_count": 1,
   "id": "dcb02264",
   "metadata": {},
   "outputs": [],
   "source": [
    "import numpy as np"
   ]
  },
  {
   "cell_type": "code",
   "execution_count": 6,
   "id": "3468edaf",
   "metadata": {},
   "outputs": [
    {
     "data": {
      "text/plain": [
       "array([41, 43])"
      ]
     },
     "metadata": {},
     "output_type": "display_data"
    },
    {
     "data": {
      "text/plain": [
       "array([41])"
      ]
     },
     "metadata": {},
     "output_type": "display_data"
    }
   ],
   "source": [
    "arr = np.array([41, 42, 43, 44])\n",
    "x = [True, False, True, False]\n",
    "display(arr[x]) # only considers True places in x (0 and 1)\n",
    "\n",
    "arr = np.array([41, 42, 43, 44])\n",
    "x = [True, False, False, False]\n",
    "display(arr[x]) # only considers True places in x (1)"
   ]
  },
  {
   "cell_type": "code",
   "execution_count": 14,
   "id": "e44edfba",
   "metadata": {},
   "outputs": [
    {
     "data": {
      "text/plain": [
       "array([34, 56, 78, 54, 23, 45, 67, 89])"
      ]
     },
     "metadata": {},
     "output_type": "display_data"
    },
    {
     "data": {
      "text/plain": [
       "[False, False, True, False, False, False, True, True]"
      ]
     },
     "metadata": {},
     "output_type": "display_data"
    },
    {
     "data": {
      "text/plain": [
       "array([78, 67, 89])"
      ]
     },
     "metadata": {},
     "output_type": "display_data"
    }
   ],
   "source": [
    "# create filter\n",
    "arr = np.array([34,56,78,54,23,45,67,89])\n",
    "arr_filter = []\n",
    "\n",
    "for item in arr:\n",
    "    if item > 60:\n",
    "        arr_filter.append(True)\n",
    "    else:\n",
    "        arr_filter.append(False)\n",
    "        \n",
    "new_filter_array = arr[arr_filter]\n",
    "display(arr)\n",
    "display(arr_filter)\n",
    "display(new_filter_array)"
   ]
  },
  {
   "cell_type": "code",
   "execution_count": 15,
   "id": "b5ce30a4",
   "metadata": {},
   "outputs": [
    {
     "data": {
      "text/plain": [
       "array([34, 56, 78, 54, 23, 45, 67, 89])"
      ]
     },
     "metadata": {},
     "output_type": "display_data"
    },
    {
     "data": {
      "text/plain": [
       "[True, True, True, True, False, False, False, False]"
      ]
     },
     "metadata": {},
     "output_type": "display_data"
    },
    {
     "data": {
      "text/plain": [
       "array([34, 56, 78, 54])"
      ]
     },
     "metadata": {},
     "output_type": "display_data"
    }
   ],
   "source": [
    "# create filter\n",
    "arr = np.array([34,56,78,54,23,45,67,89])\n",
    "arr_filter = []\n",
    "\n",
    "for item in arr:\n",
    "    if item%2 == 0:\n",
    "        arr_filter.append(True)\n",
    "    else:\n",
    "        arr_filter.append(False)\n",
    "        \n",
    "new_filter_array = arr[arr_filter]\n",
    "display(arr)\n",
    "display(arr_filter)\n",
    "display(new_filter_array)"
   ]
  }
 ],
 "metadata": {
  "kernelspec": {
   "display_name": ".venv",
   "language": "python",
   "name": "python3"
  },
  "language_info": {
   "codemirror_mode": {
    "name": "ipython",
    "version": 3
   },
   "file_extension": ".py",
   "mimetype": "text/x-python",
   "name": "python",
   "nbconvert_exporter": "python",
   "pygments_lexer": "ipython3",
   "version": "3.13.5"
  }
 },
 "nbformat": 4,
 "nbformat_minor": 5
}
