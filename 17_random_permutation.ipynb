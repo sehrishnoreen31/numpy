{
 "cells": [
  {
   "cell_type": "code",
   "execution_count": 1,
   "id": "a0cf5766",
   "metadata": {},
   "outputs": [],
   "source": [
    "import numpy as np"
   ]
  },
  {
   "cell_type": "code",
   "execution_count": 20,
   "id": "7949f2e2",
   "metadata": {},
   "outputs": [
    {
     "data": {
      "text/plain": [
       "array([ 4,  5,  2,  3, 52, 87, 54])"
      ]
     },
     "metadata": {},
     "output_type": "display_data"
    },
    {
     "data": {
      "text/plain": [
       "array([ 3,  2, 87,  5,  4, 54, 52])"
      ]
     },
     "metadata": {},
     "output_type": "display_data"
    }
   ],
   "source": [
    "# shuffle\n",
    "my_array = np.array([4,5,2,3,52,87,54])\n",
    "display(my_array)\n",
    "np.random.shuffle(my_array)\n",
    "display(my_array)\n",
    "# makes changes in the original array"
   ]
  },
  {
   "cell_type": "code",
   "execution_count": 21,
   "id": "54d5d6ae",
   "metadata": {},
   "outputs": [
    {
     "name": "stdout",
     "output_type": "stream",
     "text": [
      "[ 3  4  5 54 52  2 87]\n"
     ]
    }
   ],
   "source": [
    "# permutation\n",
    "print(np.random.permutation(my_array))\n",
    "# does not change original array"
   ]
  }
 ],
 "metadata": {
  "kernelspec": {
   "display_name": ".venv",
   "language": "python",
   "name": "python3"
  },
  "language_info": {
   "codemirror_mode": {
    "name": "ipython",
    "version": 3
   },
   "file_extension": ".py",
   "mimetype": "text/x-python",
   "name": "python",
   "nbconvert_exporter": "python",
   "pygments_lexer": "ipython3",
   "version": "3.13.5"
  }
 },
 "nbformat": 4,
 "nbformat_minor": 5
}
