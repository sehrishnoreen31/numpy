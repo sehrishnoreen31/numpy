{
 "cells": [
  {
   "cell_type": "code",
   "execution_count": 1,
   "id": "b8e16f8f",
   "metadata": {},
   "outputs": [],
   "source": [
    "import numpy as np"
   ]
  },
  {
   "cell_type": "code",
   "execution_count": 2,
   "id": "0a010bdd",
   "metadata": {},
   "outputs": [],
   "source": [
    "arr = np.array([[1, 2, 3], [4, 5, 6], [7, 8, 9], [10, 11, 12], [13, 14, 15], [16, 17, 18]])"
   ]
  },
  {
   "cell_type": "code",
   "execution_count": 8,
   "id": "4f5cfefc",
   "metadata": {},
   "outputs": [
    {
     "data": {
      "text/plain": [
       "(array([1]), array([0]))"
      ]
     },
     "metadata": {},
     "output_type": "display_data"
    },
    {
     "data": {
      "text/plain": [
       "(array([0, 1, 1, 2, 3, 3, 4, 5, 5]), array([1, 0, 2, 1, 0, 2, 1, 0, 2]))"
      ]
     },
     "metadata": {},
     "output_type": "display_data"
    },
    {
     "data": {
      "text/plain": [
       "(array([0, 0, 1, 2, 2, 3, 4, 4, 5]), array([0, 2, 1, 0, 2, 1, 0, 2, 1]))"
      ]
     },
     "execution_count": 8,
     "metadata": {},
     "output_type": "execute_result"
    }
   ],
   "source": [
    "# where\n",
    "item1 = np.where(arr==4)\n",
    "display(item1)\n",
    "evens = np.where(arr%2==0)\n",
    "display(evens)\n",
    "odds = np.where(arr%2==1)\n",
    "odds"
   ]
  },
  {
   "cell_type": "code",
   "execution_count": 16,
   "id": "3e45452b",
   "metadata": {},
   "outputs": [
    {
     "data": {
      "text/plain": [
       "np.int64(5)"
      ]
     },
     "metadata": {},
     "output_type": "display_data"
    },
    {
     "data": {
      "text/plain": [
       "np.int64(4)"
      ]
     },
     "metadata": {},
     "output_type": "display_data"
    },
    {
     "data": {
      "text/plain": [
       "array([0, 3])"
      ]
     },
     "metadata": {},
     "output_type": "display_data"
    }
   ],
   "source": [
    "# searchsorted\n",
    "arr = np.array([3,2,1,5,6,7])\n",
    "search = np.searchsorted(arr, 7)\n",
    "display(search)\n",
    "search = np.searchsorted(arr, 5, side='right')\n",
    "display(search)\n",
    "search = np.searchsorted(arr, [0,4])\n",
    "display(search)"
   ]
  }
 ],
 "metadata": {
  "kernelspec": {
   "display_name": ".venv",
   "language": "python",
   "name": "python3"
  },
  "language_info": {
   "codemirror_mode": {
    "name": "ipython",
    "version": 3
   },
   "file_extension": ".py",
   "mimetype": "text/x-python",
   "name": "python",
   "nbconvert_exporter": "python",
   "pygments_lexer": "ipython3",
   "version": "3.13.5"
  }
 },
 "nbformat": 4,
 "nbformat_minor": 5
}
