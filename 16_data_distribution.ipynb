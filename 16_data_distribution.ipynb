{
 "cells": [
  {
   "cell_type": "markdown",
   "id": "34279f0d",
   "metadata": {},
   "source": [
    "Data Distribution is a list of all possible values, and how often each value occurs."
   ]
  },
  {
   "cell_type": "code",
   "execution_count": 1,
   "id": "bbebb4bc",
   "metadata": {},
   "outputs": [],
   "source": [
    "import numpy as np"
   ]
  },
  {
   "cell_type": "code",
   "execution_count": null,
   "id": "6c00fdec",
   "metadata": {},
   "outputs": [
    {
     "name": "stdout",
     "output_type": "stream",
     "text": [
      "[5 5 3 5 7 3 5 5 5 7 5 3 5 5 5 7 3 5 5 5 3 7 5 5 7 5 5 7 3 5 5 7 5 3 5 3 5\n",
      " 5 4 5 7 5 3 5 5 5 5 5 5 5 5 3 7 3 5 5 5 7 5 5 3 5 4 5 3 3 4 4 7 3 4 7 5 4\n",
      " 7 5 5 5 5 5 7 5 3 4 5 5 5 4 5 7 5 7 5 5 5 3 5 7 5 5]\n"
     ]
    }
   ],
   "source": [
    "x = np.random.choice([3,5,4,7], p=[0.1, 0.6, 0.1, 0.2], size=(100))\n",
    "print(x)\n",
    "print()"
   ]
  },
  {
   "cell_type": "code",
   "execution_count": 9,
   "id": "96ac88c9",
   "metadata": {},
   "outputs": [
    {
     "name": "stdout",
     "output_type": "stream",
     "text": [
      "58\n",
      "17\n",
      "17\n"
     ]
    }
   ],
   "source": [
    "fives = []\n",
    "threes = []\n",
    "sevens = []\n",
    "for i in x:\n",
    "    if i == 5:\n",
    "        fives.append(i)\n",
    "    if i==7:\n",
    "        sevens.append(i)\n",
    "    if i==3:\n",
    "        threes.append(i)    \n",
    "print(len(fives))\n",
    "print(len(sevens))\n",
    "print(len(threes))"
   ]
  },
  {
   "cell_type": "code",
   "execution_count": 18,
   "id": "3fa01d57",
   "metadata": {},
   "outputs": [
    {
     "name": "stdout",
     "output_type": "stream",
     "text": [
      "[[7 3 5 5 5]\n",
      " [5 7 5 7 5]\n",
      " [5 4 5 4 7]]\n",
      "\n"
     ]
    }
   ],
   "source": [
    "x = np.random.choice([3,5,4,7], p=[0.1, 0.6, 0.1, 0.2], size=(3,5))\n",
    "print(x)\n",
    "print()"
   ]
  }
 ],
 "metadata": {
  "kernelspec": {
   "display_name": ".venv",
   "language": "python",
   "name": "python3"
  },
  "language_info": {
   "codemirror_mode": {
    "name": "ipython",
    "version": 3
   },
   "file_extension": ".py",
   "mimetype": "text/x-python",
   "name": "python",
   "nbconvert_exporter": "python",
   "pygments_lexer": "ipython3",
   "version": "3.13.5"
  }
 },
 "nbformat": 4,
 "nbformat_minor": 5
}
