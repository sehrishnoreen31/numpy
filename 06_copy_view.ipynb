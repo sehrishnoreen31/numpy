{
 "cells": [
  {
   "cell_type": "code",
   "execution_count": 9,
   "id": "83bb986d",
   "metadata": {},
   "outputs": [],
   "source": [
    "import numpy as np"
   ]
  },
  {
   "cell_type": "code",
   "execution_count": null,
   "id": "48a7da42",
   "metadata": {},
   "outputs": [],
   "source": [
    "my_array = np.array([4, 42, 32, 32, 32, 0])"
   ]
  },
  {
   "cell_type": "markdown",
   "id": "a001aac8",
   "metadata": {},
   "source": [
    "## Copy\n"
   ]
  },
  {
   "cell_type": "code",
   "execution_count": 11,
   "id": "8fdaca6f",
   "metadata": {},
   "outputs": [
    {
     "data": {
      "text/plain": [
       "array([ 4, 42, 32, 32, 32,  0])"
      ]
     },
     "execution_count": 11,
     "metadata": {},
     "output_type": "execute_result"
    }
   ],
   "source": [
    "new_array = my_array.copy()\n",
    "new_array"
   ]
  },
  {
   "cell_type": "code",
   "execution_count": 12,
   "id": "1c9f1385",
   "metadata": {},
   "outputs": [
    {
     "data": {
      "text/plain": [
       "array([ 4, 42, 32, 32, 32,  0])"
      ]
     },
     "metadata": {},
     "output_type": "display_data"
    },
    {
     "data": {
      "text/plain": [
       "array([ 4, 42, 32, 90, 32,  0])"
      ]
     },
     "metadata": {},
     "output_type": "display_data"
    }
   ],
   "source": [
    "new_array[3] = 90\n",
    "display(my_array)\n",
    "display(new_array)\n",
    "\n",
    "# does not change original"
   ]
  },
  {
   "cell_type": "markdown",
   "id": "805f18ac",
   "metadata": {},
   "source": [
    "## View\n"
   ]
  },
  {
   "cell_type": "code",
   "execution_count": 13,
   "id": "fb194959",
   "metadata": {},
   "outputs": [
    {
     "data": {
      "text/plain": [
       "array([ 4, 42, 32, 32, 32,  0])"
      ]
     },
     "execution_count": 13,
     "metadata": {},
     "output_type": "execute_result"
    }
   ],
   "source": [
    "view_array = my_array.view()\n",
    "view_array"
   ]
  },
  {
   "cell_type": "code",
   "execution_count": 14,
   "id": "f04a4559",
   "metadata": {},
   "outputs": [
    {
     "data": {
      "text/plain": [
       "array([ 4, 42, 32, 89, 32,  0])"
      ]
     },
     "metadata": {},
     "output_type": "display_data"
    },
    {
     "data": {
      "text/plain": [
       "array([ 4, 42, 32, 89, 32,  0])"
      ]
     },
     "metadata": {},
     "output_type": "display_data"
    }
   ],
   "source": [
    "view_array[3] = 89\n",
    "display(my_array)\n",
    "display(view_array)\n",
    "# changes the original array"
   ]
  }
 ],
 "metadata": {
  "kernelspec": {
   "display_name": ".venv",
   "language": "python",
   "name": "python3"
  },
  "language_info": {
   "codemirror_mode": {
    "name": "ipython",
    "version": 3
   },
   "file_extension": ".py",
   "mimetype": "text/x-python",
   "name": "python",
   "nbconvert_exporter": "python",
   "pygments_lexer": "ipython3",
   "version": "3.13.5"
  }
 },
 "nbformat": 4,
 "nbformat_minor": 5
}
