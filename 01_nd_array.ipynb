{
 "cells": [
  {
   "cell_type": "code",
   "execution_count": 1,
   "id": "fcda7ca1",
   "metadata": {},
   "outputs": [],
   "source": [
    "import numpy as np"
   ]
  },
  {
   "cell_type": "code",
   "execution_count": null,
   "id": "2101a18e",
   "metadata": {},
   "outputs": [
    {
     "data": {
      "text/plain": [
       "array([4, 3, 2])"
      ]
     },
     "execution_count": 2,
     "metadata": {},
     "output_type": "execute_result"
    }
   ],
   "source": [
    "# creating the array\n",
    "my_array = np.array([4, 3, 2])\n",
    "my_array"
   ]
  },
  {
   "cell_type": "code",
   "execution_count": null,
   "id": "539700fb",
   "metadata": {},
   "outputs": [
    {
     "name": "stdout",
     "output_type": "stream",
     "text": [
      "Array Dimensions:  (2, 4)\n",
      "Array:  [[ 1  2 34  5]\n",
      " [ 3  4  2  1]]\n",
      "Array Dimensions:  (3, 4)\n",
      "Array:  [[ 1  2 34  5]\n",
      " [ 3  4  2  1]\n",
      " [ 3  4  3  2]]\n",
      "Array Dimensions:  (2, 3, 4)\n",
      "Array:  [[[ 1  2 34  5]\n",
      "  [ 3  4  2  1]\n",
      "  [ 3  4  3  2]]\n",
      "\n",
      " [[ 1  2 34  5]\n",
      "  [ 3  4  2  1]\n",
      "  [ 3  4  3  2]]]\n",
      "Array Dimensions:  (2, 2, 3, 4)\n",
      "Array:  [[[[ 1  2 34  5]\n",
      "   [ 3  4  2  1]\n",
      "   [ 3  4  3  2]]\n",
      "\n",
      "  [[ 1  2 34  5]\n",
      "   [ 3  4  2  1]\n",
      "   [ 3  4  3  2]]]\n",
      "\n",
      "\n",
      " [[[ 1  2 34  5]\n",
      "   [ 3  4  2  1]\n",
      "   [ 3  4  3  2]]\n",
      "\n",
      "  [[ 1  2 34  5]\n",
      "   [ 3  4  2  1]\n",
      "   [ 3  4  3  2]]]]\n"
     ]
    }
   ],
   "source": [
    "# multi dimensional array\n",
    "my_nd_array = np.array([[1, 2, 34, 5], [3, 4, 2, 1]])\n",
    "print(\"Array Dimensions: \", my_nd_array.shape)\n",
    "print(\"Array: \", my_nd_array)\n",
    "my_nd_array = np.array([[1, 2, 34, 5], [3, 4, 2, 1], [3, 4, 3, 2]])\n",
    "print(\"Array Dimensions: \", my_nd_array.shape)\n",
    "print(\"Array: \", my_nd_array)\n",
    "my_nd_array = np.array(\n",
    "    [\n",
    "        [[1, 2, 34, 5], [3, 4, 2, 1], [3, 4, 3, 2]],\n",
    "        [[1, 2, 34, 5], [3, 4, 2, 1], [3, 4, 3, 2]],\n",
    "    ]\n",
    ")\n",
    "print(\"Array Dimensions: \", my_nd_array.shape)\n",
    "print(\"Array: \", my_nd_array)\n",
    "my_nd_array = np.array(\n",
    "    [\n",
    "        [\n",
    "            [[1, 2, 34, 5], [3, 4, 2, 1], [3, 4, 3, 2]],\n",
    "            [[1, 2, 34, 5], [3, 4, 2, 1], [3, 4, 3, 2]],\n",
    "        ],\n",
    "        [\n",
    "            [[1, 2, 34, 5], [3, 4, 2, 1], [3, 4, 3, 2]],\n",
    "            [[1, 2, 34, 5], [3, 4, 2, 1], [3, 4, 3, 2]],\n",
    "        ],\n",
    "    ]\n",
    ")\n",
    "print(\"Array Dimensions: \", my_nd_array.shape)\n",
    "print(\"Array: \", my_nd_array)"
   ]
  },
  {
   "cell_type": "code",
   "execution_count": null,
   "id": "bf1d8c43",
   "metadata": {},
   "outputs": [
    {
     "name": "stdout",
     "output_type": "stream",
     "text": [
      "Array Dim:  2 \n",
      "Array Shape:  (1, 4)\n",
      "Array Dim:  3 \n",
      "Array Shape:  (1, 1, 4)\n"
     ]
    }
   ],
   "source": [
    "# specify minimum dimensions\n",
    "my_array = np.array(\n",
    "    [\n",
    "        2,\n",
    "        3,\n",
    "        4,\n",
    "        5,\n",
    "    ],\n",
    "    ndmin=2,\n",
    ")\n",
    "print(\"Array Dim: \", my_array.ndim, \"\\nArray Shape: \", my_array.shape)\n",
    "my_array = np.array(\n",
    "    [\n",
    "        2,\n",
    "        3,\n",
    "        4,\n",
    "        5,\n",
    "    ],\n",
    "    ndmin=3,\n",
    ")\n",
    "print(\"Array Dim: \", my_array.ndim, \"\\nArray Shape: \", my_array.shape)"
   ]
  },
  {
   "cell_type": "code",
   "execution_count": null,
   "id": "73bc404e",
   "metadata": {},
   "outputs": [
    {
     "name": "stdout",
     "output_type": "stream",
     "text": [
      "float64 [3. 4. 2. 4. 4. 1.]\n",
      "<U1 ['3' '4' '2' '4' '4' '1']\n",
      "int64 [3 4 2 4 4 1]\n",
      "bool [ True  True  True  True  True  True]\n",
      "complex128 [3.+0.j 4.+0.j 2.+0.j 4.+0.j 4.+0.j 1.+0.j]\n"
     ]
    }
   ],
   "source": [
    "# specify data types\n",
    "my_array = np.array([3, 4, 2, 4, 4, 1], dtype=float)\n",
    "print(my_array.dtype, my_array)\n",
    "my_array = np.array([3, 4, 2, 4, 4, 1], dtype=str)\n",
    "print(my_array.dtype, my_array)\n",
    "my_array = np.array([3, 4, 2, 4, 4, 1], dtype=int)\n",
    "print(my_array.dtype, my_array)\n",
    "my_array = np.array([3, 4, 2, 4, 4, 1], dtype=bool)\n",
    "print(my_array.dtype, my_array)\n",
    "my_array = np.array([3, 4, 2, 4, 4, 1], dtype=complex)\n",
    "print(my_array.dtype, my_array)"
   ]
  }
 ],
 "metadata": {
  "kernelspec": {
   "display_name": "Python 3",
   "language": "python",
   "name": "python3"
  },
  "language_info": {
   "codemirror_mode": {
    "name": "ipython",
    "version": 3
   },
   "file_extension": ".py",
   "mimetype": "text/x-python",
   "name": "python",
   "nbconvert_exporter": "python",
   "pygments_lexer": "ipython3",
   "version": "3.11.0"
  }
 },
 "nbformat": 4,
 "nbformat_minor": 5
}
