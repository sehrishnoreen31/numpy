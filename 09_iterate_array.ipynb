{
 "cells": [
  {
   "cell_type": "code",
   "execution_count": 11,
   "id": "925534d3",
   "metadata": {},
   "outputs": [],
   "source": [
    "import numpy as np "
   ]
  },
  {
   "cell_type": "code",
   "execution_count": null,
   "id": "08404f2a",
   "metadata": {},
   "outputs": [],
   "source": [
    "my_array = np.array([2,3,4,5])"
   ]
  },
  {
   "cell_type": "code",
   "execution_count": null,
   "id": "e75db048",
   "metadata": {},
   "outputs": [
    {
     "name": "stdout",
     "output_type": "stream",
     "text": [
      "2\n",
      "3\n",
      "4\n",
      "5\n"
     ]
    }
   ],
   "source": [
    "# 1d\n",
    "for item in my_array:\n",
    "    print(item)"
   ]
  },
  {
   "cell_type": "code",
   "execution_count": 4,
   "id": "ed1ab360",
   "metadata": {},
   "outputs": [],
   "source": [
    "my_array = np.array([[2,3],[4,5]])"
   ]
  },
  {
   "cell_type": "code",
   "execution_count": 5,
   "id": "05345065",
   "metadata": {},
   "outputs": [
    {
     "name": "stdout",
     "output_type": "stream",
     "text": [
      "2\n",
      "3\n",
      "4\n",
      "5\n"
     ]
    }
   ],
   "source": [
    "# 2d\n",
    "for item in my_array:\n",
    "    for item2 in item:\n",
    "        print(item2)"
   ]
  },
  {
   "cell_type": "code",
   "execution_count": 6,
   "id": "8480b0cb",
   "metadata": {},
   "outputs": [],
   "source": [
    "my_array = np.array([[[3,2,1],[3,5,3]],[[3,2,1],[6,4,3]]])"
   ]
  },
  {
   "cell_type": "code",
   "execution_count": 7,
   "id": "b9ea85bc",
   "metadata": {},
   "outputs": [
    {
     "name": "stdout",
     "output_type": "stream",
     "text": [
      "3\n",
      "2\n",
      "1\n",
      "3\n",
      "5\n",
      "3\n",
      "3\n",
      "2\n",
      "1\n",
      "6\n",
      "4\n",
      "3\n"
     ]
    }
   ],
   "source": [
    "for x in my_array:\n",
    "    for y in x:\n",
    "        for z in y:\n",
    "            print(z)"
   ]
  },
  {
   "cell_type": "markdown",
   "id": "13233621",
   "metadata": {},
   "source": [
    "## iterate on scalar items"
   ]
  },
  {
   "cell_type": "code",
   "execution_count": 8,
   "id": "682576b4",
   "metadata": {},
   "outputs": [
    {
     "name": "stdout",
     "output_type": "stream",
     "text": [
      "3\n",
      "2\n",
      "1\n",
      "3\n",
      "5\n",
      "3\n",
      "3\n",
      "2\n",
      "1\n",
      "6\n",
      "4\n",
      "3\n"
     ]
    }
   ],
   "source": [
    "for x in np.nditer(my_array):\n",
    "    print(x)"
   ]
  },
  {
   "cell_type": "code",
   "execution_count": 9,
   "id": "ef1b2d64",
   "metadata": {},
   "outputs": [
    {
     "name": "stdout",
     "output_type": "stream",
     "text": [
      "3\n",
      "2\n",
      "1\n",
      "3\n",
      "2\n",
      "1\n"
     ]
    }
   ],
   "source": [
    "for x in np.nditer(my_array[:, ::2]):\n",
    "    print(x)"
   ]
  },
  {
   "cell_type": "markdown",
   "id": "ca69ede1",
   "metadata": {},
   "source": [
    "## change items type while iterating"
   ]
  },
  {
   "cell_type": "code",
   "execution_count": 10,
   "id": "db9d75fd",
   "metadata": {},
   "outputs": [
    {
     "name": "stdout",
     "output_type": "stream",
     "text": [
      "np.bytes_(b'3')\n",
      "np.bytes_(b'2')\n",
      "np.bytes_(b'1')\n",
      "np.bytes_(b'3')\n",
      "np.bytes_(b'5')\n",
      "np.bytes_(b'3')\n",
      "np.bytes_(b'3')\n",
      "np.bytes_(b'2')\n",
      "np.bytes_(b'1')\n",
      "np.bytes_(b'6')\n",
      "np.bytes_(b'4')\n",
      "np.bytes_(b'3')\n"
     ]
    }
   ],
   "source": [
    "for x in np.nditer(my_array, flags=['buffered'], op_dtypes=['S']):\n",
    "    print(x)"
   ]
  }
 ],
 "metadata": {
  "kernelspec": {
   "display_name": ".venv",
   "language": "python",
   "name": "python3"
  },
  "language_info": {
   "codemirror_mode": {
    "name": "ipython",
    "version": 3
   },
   "file_extension": ".py",
   "mimetype": "text/x-python",
   "name": "python",
   "nbconvert_exporter": "python",
   "pygments_lexer": "ipython3",
   "version": "3.13.5"
  }
 },
 "nbformat": 4,
 "nbformat_minor": 5
}
