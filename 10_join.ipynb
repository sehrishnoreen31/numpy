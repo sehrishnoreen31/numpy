{
 "cells": [
  {
   "cell_type": "code",
   "execution_count": 1,
   "id": "b702560f",
   "metadata": {},
   "outputs": [],
   "source": [
    "import numpy as np"
   ]
  },
  {
   "cell_type": "code",
   "execution_count": 2,
   "id": "833fd4a7",
   "metadata": {},
   "outputs": [
    {
     "data": {
      "text/plain": [
       "array([3, 4, 3, 2])"
      ]
     },
     "metadata": {},
     "output_type": "display_data"
    },
    {
     "data": {
      "text/plain": [
       "array([2, 7, 2, 1])"
      ]
     },
     "metadata": {},
     "output_type": "display_data"
    }
   ],
   "source": [
    "arr1 = np.array([3,4,3,2])\n",
    "arr2 = np.array([2,7,2,1])\n",
    "\n",
    "display(arr1)\n",
    "display(arr2)"
   ]
  },
  {
   "cell_type": "markdown",
   "id": "0f1ab5b4",
   "metadata": {},
   "source": [
    "## Concatenate"
   ]
  },
  {
   "cell_type": "code",
   "execution_count": 5,
   "id": "3150cfd4",
   "metadata": {},
   "outputs": [
    {
     "data": {
      "text/plain": [
       "array([3, 4, 3, 2, 2, 7, 2, 1])"
      ]
     },
     "metadata": {},
     "output_type": "display_data"
    },
    {
     "data": {
      "text/plain": [
       "array([2, 7, 2, 1, 3, 4, 3, 2])"
      ]
     },
     "metadata": {},
     "output_type": "display_data"
    }
   ],
   "source": [
    "# concat\n",
    "concatenated_array = np.concatenate((arr1, arr2))\n",
    "display(concatenated_array)\n",
    "concatenated_array = np.concatenate((arr2, arr1))\n",
    "display(concatenated_array)"
   ]
  },
  {
   "cell_type": "code",
   "execution_count": 6,
   "id": "259918ca",
   "metadata": {},
   "outputs": [
    {
     "data": {
      "text/plain": [
       "array([[ 3,  4,  3,  2],\n",
       "       [ 4,  3,  7,  6],\n",
       "       [ 3,  7,  8,  2],\n",
       "       [43, 22, 11,  5]])"
      ]
     },
     "metadata": {},
     "output_type": "display_data"
    }
   ],
   "source": [
    "# 2d arrays\n",
    "array1 = np.array([[3,4,3,2],[4,3,7,6]])\n",
    "array2 = np.array([[3,7,8,2],[43,22,11,5]])\n",
    "\n",
    "concat_2d_array = np.concatenate((array1, array2))\n",
    "display(concat_2d_array)"
   ]
  },
  {
   "cell_type": "markdown",
   "id": "f4b13390",
   "metadata": {},
   "source": [
    "## stack"
   ]
  },
  {
   "cell_type": "code",
   "execution_count": 11,
   "id": "2df131b3",
   "metadata": {},
   "outputs": [
    {
     "data": {
      "text/plain": [
       "array([[3, 2],\n",
       "       [4, 7],\n",
       "       [3, 2],\n",
       "       [2, 1]])"
      ]
     },
     "metadata": {},
     "output_type": "display_data"
    },
    {
     "data": {
      "text/plain": [
       "array([[3, 4, 3, 2],\n",
       "       [2, 7, 2, 1]])"
      ]
     },
     "metadata": {},
     "output_type": "display_data"
    }
   ],
   "source": [
    "# vertically\n",
    "v_stacked_array = np.stack((arr1, arr2), axis=1)\n",
    "display(v_stacked_array)\n",
    "# horizontally\n",
    "h_stacked_array = np.stack((arr1, arr2), axis=0)\n",
    "display(h_stacked_array)"
   ]
  },
  {
   "cell_type": "code",
   "execution_count": null,
   "id": "b7f104fa",
   "metadata": {},
   "outputs": [
    {
     "data": {
      "text/plain": [
       "array([3, 4, 3, 2, 2, 7, 2, 1])"
      ]
     },
     "metadata": {},
     "output_type": "display_data"
    }
   ],
   "source": [
    "# hstack, along rows\n",
    "h_stacked = np.hstack((arr1, arr2))\n",
    "display(h_stacked)"
   ]
  },
  {
   "cell_type": "code",
   "execution_count": null,
   "id": "6d803f46",
   "metadata": {},
   "outputs": [
    {
     "data": {
      "text/plain": [
       "array([[3, 4, 3, 2],\n",
       "       [2, 7, 2, 1]])"
      ]
     },
     "metadata": {},
     "output_type": "display_data"
    }
   ],
   "source": [
    "# vstack, along columns\n",
    "v_stacked = np.vstack((arr1, arr2))\n",
    "display(v_stacked)"
   ]
  },
  {
   "cell_type": "code",
   "execution_count": 15,
   "id": "62551750",
   "metadata": {},
   "outputs": [
    {
     "data": {
      "text/plain": [
       "array([[[3, 2],\n",
       "        [4, 7],\n",
       "        [3, 2],\n",
       "        [2, 1]]])"
      ]
     },
     "metadata": {},
     "output_type": "display_data"
    }
   ],
   "source": [
    "# dstack, along depth\n",
    "d_stacked = np.dstack((arr1, arr2))\n",
    "display(d_stacked)"
   ]
  }
 ],
 "metadata": {
  "kernelspec": {
   "display_name": ".venv",
   "language": "python",
   "name": "python3"
  },
  "language_info": {
   "codemirror_mode": {
    "name": "ipython",
    "version": 3
   },
   "file_extension": ".py",
   "mimetype": "text/x-python",
   "name": "python",
   "nbconvert_exporter": "python",
   "pygments_lexer": "ipython3",
   "version": "3.13.5"
  }
 },
 "nbformat": 4,
 "nbformat_minor": 5
}
