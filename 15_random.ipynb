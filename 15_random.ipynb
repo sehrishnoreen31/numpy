{
 "cells": [
  {
   "cell_type": "code",
   "execution_count": 1,
   "id": "6ac1be4b",
   "metadata": {},
   "outputs": [],
   "source": [
    "import numpy as np"
   ]
  },
  {
   "cell_type": "code",
   "execution_count": 4,
   "id": "6b1a6625",
   "metadata": {},
   "outputs": [
    {
     "data": {
      "text/plain": [
       "20"
      ]
     },
     "metadata": {},
     "output_type": "display_data"
    }
   ],
   "source": [
    "my_array = np.random.randint(144)\n",
    "display(my_array)"
   ]
  },
  {
   "cell_type": "code",
   "execution_count": null,
   "id": "16541d12",
   "metadata": {},
   "outputs": [
    {
     "data": {
      "text/plain": [
       "0.9407154865146582"
      ]
     },
     "metadata": {},
     "output_type": "display_data"
    },
    {
     "data": {
      "text/plain": [
       "array([0.06482028, 0.94450769, 0.06784323, 0.91323108, 0.28387507,\n",
       "       0.84683141, 0.60062179, 0.10520068])"
      ]
     },
     "metadata": {},
     "output_type": "display_data"
    }
   ],
   "source": [
    "my_array = np.random.rand()\n",
    "display(my_array)\n",
    "my_array = np.random.rand(8)\n",
    "display(my_array)"
   ]
  },
  {
   "cell_type": "code",
   "execution_count": 8,
   "id": "c707a014",
   "metadata": {},
   "outputs": [
    {
     "data": {
      "text/plain": [
       "array([79, 19, 77, 13, 13,  2, 11, 20], dtype=int32)"
      ]
     },
     "metadata": {},
     "output_type": "display_data"
    },
    {
     "data": {
      "text/plain": [
       "array([[47, 81, 12,  7, 71],\n",
       "       [66, 97, 48,  5, 35],\n",
       "       [53, 53, 61, 12,  3]], dtype=int32)"
      ]
     },
     "metadata": {},
     "output_type": "display_data"
    }
   ],
   "source": [
    "# specific size\n",
    "my_array = np.random.randint(100, size=(8))\n",
    "display(my_array)\n",
    "my_array = np.random.randint(100,size=(3,5))\n",
    "display(my_array)"
   ]
  },
  {
   "cell_type": "code",
   "execution_count": 13,
   "id": "6ebf484f",
   "metadata": {},
   "outputs": [
    {
     "data": {
      "text/plain": [
       "np.float64(4.0)"
      ]
     },
     "metadata": {},
     "output_type": "display_data"
    },
    {
     "data": {
      "text/plain": [
       "array([[25.,  4., 75.,  4.],\n",
       "       [75., 75.,  4.,  4.],\n",
       "       [25., 75., 42.,  4.]])"
      ]
     },
     "metadata": {},
     "output_type": "display_data"
    }
   ],
   "source": [
    "# specific choice\n",
    "my_array = np.random.choice([4.,4,42,25,75])\n",
    "display(my_array)\n",
    "my_array = np.random.choice([4.,4,42,25,75], size=(3,4))\n",
    "display(my_array)"
   ]
  }
 ],
 "metadata": {
  "kernelspec": {
   "display_name": ".venv",
   "language": "python",
   "name": "python3"
  },
  "language_info": {
   "codemirror_mode": {
    "name": "ipython",
    "version": 3
   },
   "file_extension": ".py",
   "mimetype": "text/x-python",
   "name": "python",
   "nbconvert_exporter": "python",
   "pygments_lexer": "ipython3",
   "version": "3.13.5"
  }
 },
 "nbformat": 4,
 "nbformat_minor": 5
}
