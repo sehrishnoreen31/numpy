{
 "cells": [
  {
   "cell_type": "code",
   "execution_count": 13,
   "id": "ea9136d0",
   "metadata": {},
   "outputs": [],
   "source": [
    "import numpy as np"
   ]
  },
  {
   "cell_type": "code",
   "execution_count": 14,
   "id": "6b0ef730",
   "metadata": {},
   "outputs": [],
   "source": [
    "my_array = np.array([4, 42, 32, 32, 32, 0])"
   ]
  },
  {
   "cell_type": "code",
   "execution_count": null,
   "id": "1e4286b0",
   "metadata": {},
   "outputs": [
    {
     "data": {
      "text/plain": [
       "array([[ 4, 42],\n",
       "       [32, 32],\n",
       "       [32,  0]])"
      ]
     },
     "execution_count": 15,
     "metadata": {},
     "output_type": "execute_result"
    }
   ],
   "source": [
    "my_array.reshape(3, 2)"
   ]
  },
  {
   "cell_type": "code",
   "execution_count": null,
   "id": "c450dd5e",
   "metadata": {},
   "outputs": [
    {
     "data": {
      "text/plain": [
       "array([[[ 4, 42],\n",
       "        [32, 32],\n",
       "        [32,  0]]])"
      ]
     },
     "execution_count": 19,
     "metadata": {},
     "output_type": "execute_result"
    }
   ],
   "source": [
    "my_array = my_array.reshape(1, 3, 2)\n",
    "my_array"
   ]
  },
  {
   "cell_type": "code",
   "execution_count": 22,
   "id": "550cbd1b",
   "metadata": {},
   "outputs": [
    {
     "data": {
      "text/plain": [
       "array([ 4, 42, 32, 32, 32,  0])"
      ]
     },
     "execution_count": 22,
     "metadata": {},
     "output_type": "execute_result"
    }
   ],
   "source": [
    "# flatten\n",
    "my_array = my_array.flatten()\n",
    "my_array"
   ]
  }
 ],
 "metadata": {
  "kernelspec": {
   "display_name": ".venv",
   "language": "python",
   "name": "python3"
  },
  "language_info": {
   "codemirror_mode": {
    "name": "ipython",
    "version": 3
   },
   "file_extension": ".py",
   "mimetype": "text/x-python",
   "name": "python",
   "nbconvert_exporter": "python",
   "pygments_lexer": "ipython3",
   "version": "3.13.5"
  }
 },
 "nbformat": 4,
 "nbformat_minor": 5
}
