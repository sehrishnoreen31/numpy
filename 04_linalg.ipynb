{
 "cells": [
  {
   "cell_type": "code",
   "execution_count": 1,
   "id": "ee1311ca",
   "metadata": {},
   "outputs": [],
   "source": [
    "import numpy as np"
   ]
  },
  {
   "cell_type": "markdown",
   "id": "71c74bb7",
   "metadata": {},
   "source": [
    "## Matrix Creation\n"
   ]
  },
  {
   "cell_type": "code",
   "execution_count": 38,
   "id": "89a22b7e",
   "metadata": {},
   "outputs": [
    {
     "name": "stdout",
     "output_type": "stream",
     "text": [
      "A =\n",
      " [[ 2  3  4]\n",
      " [ 3  9 -2]\n",
      " [ 3 -2  1]]\n",
      "B =\n",
      " [[ 9  5 -4]\n",
      " [ 1  0 -7]\n",
      " [ 6  7  1]]\n"
     ]
    }
   ],
   "source": [
    "# creating matrix\n",
    "A = np.array([[2, 3, 4], [3, 9, -2], [3, -2, 1]])\n",
    "print(\"A =\\n\", A)\n",
    "B = np.array([[9, 5, -4], [1, 0, -7], [6, 7, 1]])\n",
    "print(\"B =\\n\", B)"
   ]
  },
  {
   "cell_type": "markdown",
   "id": "56c765f1",
   "metadata": {},
   "source": [
    "## Matrix Operations\n"
   ]
  },
  {
   "cell_type": "code",
   "execution_count": null,
   "id": "c39779c2",
   "metadata": {},
   "outputs": [
    {
     "name": "stdout",
     "output_type": "stream",
     "text": [
      "[[11  8  0]\n",
      " [ 4  9 -9]\n",
      " [ 9  5  2]]\n"
     ]
    }
   ],
   "source": [
    "# add\n",
    "C = A + B\n",
    "print(C)"
   ]
  },
  {
   "cell_type": "code",
   "execution_count": 12,
   "id": "1f7ea92a",
   "metadata": {},
   "outputs": [
    {
     "name": "stdout",
     "output_type": "stream",
     "text": [
      "[[-7 -2  8]\n",
      " [ 2  9  5]\n",
      " [-3 -9  0]]\n"
     ]
    }
   ],
   "source": [
    "# subtarct\n",
    "C = A - B\n",
    "print(C)"
   ]
  },
  {
   "cell_type": "markdown",
   "id": "6f9a7842",
   "metadata": {},
   "source": [
    "Matrix multiplication can be done using the @ operator or the np.dot() function. Unlike element-wise multiplication, matrix multiplication involves summing the products of rows and columns.\n"
   ]
  },
  {
   "cell_type": "code",
   "execution_count": 14,
   "id": "500f4c32",
   "metadata": {},
   "outputs": [
    {
     "name": "stdout",
     "output_type": "stream",
     "text": [
      "[[ 45  38 -25]\n",
      " [ 24   1 -77]\n",
      " [ 31  22   3]]\n"
     ]
    }
   ],
   "source": [
    "# multiplication\n",
    "C = A @ B\n",
    "print(C)"
   ]
  },
  {
   "cell_type": "code",
   "execution_count": null,
   "id": "40099ef2",
   "metadata": {},
   "outputs": [
    {
     "name": "stdout",
     "output_type": "stream",
     "text": [
      "A:\n",
      " [[ 2  3  4]\n",
      " [ 3  9 -2]\n",
      " [ 3 -2  1]]\n",
      "Transpose A:\n",
      " [[ 2  3  3]\n",
      " [ 3  9 -2]\n",
      " [ 4 -2  1]]\n",
      "B:\n",
      " [[ 9  5 -4]\n",
      " [ 1  0 -7]\n",
      " [ 6  7  1]]\n",
      "Transpose B:\n",
      " [[ 9  1  6]\n",
      " [ 5  0  7]\n",
      " [-4 -7  1]]\n"
     ]
    }
   ],
   "source": [
    "# transpose\n",
    "print(\"A:\\n\", A)\n",
    "print(\"Transpose A:\\n\", A.T)\n",
    "print(\"B:\\n\", B)\n",
    "print(\"Transpose B:\\n\", B.T)"
   ]
  },
  {
   "cell_type": "code",
   "execution_count": null,
   "id": "5e71952d",
   "metadata": {},
   "outputs": [
    {
     "name": "stdout",
     "output_type": "stream",
     "text": [
      "det_A: -149.00\n",
      "det_B: 198.00 \n"
     ]
    }
   ],
   "source": [
    "# determinent\n",
    "det_A = np.linalg.det(A)\n",
    "print(f\"det_A: {det_A:.2f}\")\n",
    "\n",
    "det_B = np.linalg.det(B)\n",
    "print(f\"det_B: {det_B:.2f} \")"
   ]
  },
  {
   "cell_type": "code",
   "execution_count": null,
   "id": "700c27f9",
   "metadata": {},
   "outputs": [
    {
     "name": "stdout",
     "output_type": "stream",
     "text": [
      "[[-0.03  0.07  0.28]\n",
      " [ 0.06  0.07 -0.11]\n",
      " [ 0.22 -0.09 -0.06]]\n"
     ]
    }
   ],
   "source": [
    "# inverse\n",
    "inv_A = np.linalg.inv(A)\n",
    "inv_A = np.round(inv_A, 2)\n",
    "print(inv_A)"
   ]
  },
  {
   "cell_type": "code",
   "execution_count": null,
   "id": "524389fb",
   "metadata": {},
   "outputs": [
    {
     "name": "stdout",
     "output_type": "stream",
     "text": [
      "Vectors\n",
      "EigResult(eigenvalues=array([-3.01934114,  4.85512023, 10.16422091]), eigenvectors=array([[ 0.69554685, -0.72000756, -0.29453774],\n",
      "       [-0.28346307,  0.20056558, -0.94920255],\n",
      "       [-0.66019942, -0.66435123,  0.11073411]]))\n",
      "Values\n",
      "[-3.01934114  4.85512023 10.16422091]\n",
      "[3.68517725+0.j        3.15741137+6.6150973j 3.15741137-6.6150973j]\n"
     ]
    }
   ],
   "source": [
    "# eigenvalues and vectors\n",
    "\n",
    "# vectors\n",
    "print(\"Vectors\")\n",
    "eig_A = np.linalg.eig(A)\n",
    "print(eig_A)\n",
    "eig_B = np.linalg.eig(B)\n",
    "eig_B\n",
    "\n",
    "print(\"Values\")\n",
    "# values\n",
    "eigv_A = np.linalg.eigvals(A)\n",
    "print(eigv_A)\n",
    "eigv_B = np.linalg.eigvals(B)\n",
    "print(eigv_B)"
   ]
  },
  {
   "cell_type": "code",
   "execution_count": null,
   "id": "5e6eb641",
   "metadata": {},
   "outputs": [
    {
     "name": "stdout",
     "output_type": "stream",
     "text": [
      "[-0.5  1. ]\n",
      "[-0.5  0.4  0.9]\n",
      "[-4.625    0.4375  10.40625 -2.71875]\n"
     ]
    }
   ],
   "source": [
    "# solving linear systems\n",
    "\n",
    "# 2 variables\n",
    "A = np.array([[2, 3], [4, 5]])\n",
    "B = np.array([2, 3])\n",
    "solved = np.linalg.solve(A, B)\n",
    "print(solved)\n",
    "\n",
    "# 3 variables\n",
    "A = np.array([[2, 3, 2], [4, 5, 0], [4, 3, 2]])\n",
    "B = np.array([2, 0, 1])\n",
    "solved = np.linalg.solve(A, B)\n",
    "print(solved)\n",
    "\n",
    "# 4 variables\n",
    "A = np.array([[2, 3, 2, 4], [4, 5, 0, -6], [4, -3, 2, 0], [-1, 3, 2, 8]])\n",
    "B = np.array([2, 0, 1, 5])\n",
    "solved = np.linalg.solve(A, B)\n",
    "print(solved)"
   ]
  },
  {
   "cell_type": "markdown",
   "id": "2e9fab3f",
   "metadata": {},
   "source": [
    "SVD is a factorization of a matrix into three matrices: U (the left singular vectors), S (the singular values) and V (the right singular vectors). It is useful in various applications, including signal processing and statistics.\n"
   ]
  },
  {
   "cell_type": "code",
   "execution_count": 55,
   "id": "5d777fc8",
   "metadata": {},
   "outputs": [
    {
     "name": "stdout",
     "output_type": "stream",
     "text": [
      "U:\n",
      " [[ 0.34663805  0.52069087 -0.22404047 -0.74734794]\n",
      " [-0.56418298  0.7802268   0.08186365  0.25737531]\n",
      " [-0.06391392 -0.02488099 -0.96757811  0.24308136]\n",
      " [ 0.74662885  0.34569944  0.08304704  0.56226369]]\n",
      "S:\n",
      " [11.2557886   7.73995838  5.51203271  0.13327652]\n",
      "V:\n",
      " [[-0.22794852  0.05780382  0.18290197  0.95459157]\n",
      " [ 0.48024361  0.84948104  0.21744544  0.02157611]\n",
      " [-0.7391077   0.52413918 -0.40223692 -0.13116167]\n",
      " [-0.413673    0.01785526  0.87032741 -0.26661963]]\n"
     ]
    }
   ],
   "source": [
    "# singular values decomposition\n",
    "U, S, V = np.linalg.svd(A)\n",
    "\n",
    "# U: left singular vectors\n",
    "# S: singular values\n",
    "# V: right singular vectors\n",
    "\n",
    "print(\"U:\\n\", U)\n",
    "print(\"S:\\n\", S)\n",
    "print(\"V:\\n\", V)"
   ]
  },
  {
   "cell_type": "code",
   "execution_count": 64,
   "id": "283b58a5",
   "metadata": {},
   "outputs": [
    {
     "name": "stdout",
     "output_type": "stream",
     "text": [
      "norm_A: 14.730919862656235\n",
      "norm_B: 5.477225575051661\n",
      "cond_A:  84.45440240294533\n"
     ]
    }
   ],
   "source": [
    "# norms and conditions\n",
    "\n",
    "# L2 norm\n",
    "norm_A = np.linalg.norm(A)\n",
    "print(\"norm_A:\", norm_A)\n",
    "norm_B = np.linalg.norm(B)\n",
    "print(\"norm_B:\", norm_B)\n",
    "\n",
    "# conditions\n",
    "cond_A = np.linalg.cond(A)\n",
    "print(\"cond_A: \", cond_A)\n",
    "# # b is 1D, but cond() requires 2D, error\n",
    "# cond_B = np.linalg.cond(B)\n",
    "# print('cond_B: ', cond_B)"
   ]
  }
 ],
 "metadata": {
  "kernelspec": {
   "display_name": "Python 3",
   "language": "python",
   "name": "python3"
  },
  "language_info": {
   "codemirror_mode": {
    "name": "ipython",
    "version": 3
   },
   "file_extension": ".py",
   "mimetype": "text/x-python",
   "name": "python",
   "nbconvert_exporter": "python",
   "pygments_lexer": "ipython3",
   "version": "3.11.0"
  }
 },
 "nbformat": 4,
 "nbformat_minor": 5
}
