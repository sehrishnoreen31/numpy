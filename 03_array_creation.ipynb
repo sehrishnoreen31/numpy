{
 "cells": [
  {
   "cell_type": "code",
   "execution_count": 1,
   "id": "2d9a2d39",
   "metadata": {},
   "outputs": [],
   "source": [
    "import numpy as np"
   ]
  },
  {
   "cell_type": "code",
   "execution_count": null,
   "id": "77eb00fe",
   "metadata": {},
   "outputs": [
    {
     "data": {
      "text/plain": [
       "array([3, 4, 2])"
      ]
     },
     "execution_count": 2,
     "metadata": {},
     "output_type": "execute_result"
    }
   ],
   "source": [
    "my_array = np.array([3, 4, 2])\n",
    "my_array"
   ]
  },
  {
   "cell_type": "code",
   "execution_count": 13,
   "id": "42bdbd01",
   "metadata": {},
   "outputs": [
    {
     "name": "stdout",
     "output_type": "stream",
     "text": [
      "[0. 0. 0. 0.]\n",
      "[[0. 0.]\n",
      " [0. 0.]\n",
      " [0. 0.]\n",
      " [0. 0.]]\n",
      "[[[0. 0.]\n",
      "  [0. 0.]]\n",
      "\n",
      " [[0. 0.]\n",
      "  [0. 0.]]\n",
      "\n",
      " [[0. 0.]\n",
      "  [0. 0.]]\n",
      "\n",
      " [[0. 0.]\n",
      "  [0. 0.]]]\n"
     ]
    }
   ],
   "source": [
    "# zeros\n",
    "my_array = np.zeros(4)\n",
    "print(my_array)\n",
    "# 2d\n",
    "my_array = np.zeros((4, 2))\n",
    "print(my_array)\n",
    "# 3d\n",
    "my_array = np.zeros((4, 2, 2))\n",
    "print(my_array)"
   ]
  },
  {
   "cell_type": "code",
   "execution_count": 19,
   "id": "1f5dd26d",
   "metadata": {},
   "outputs": [
    {
     "name": "stdout",
     "output_type": "stream",
     "text": [
      "[1. 1. 1.]\n",
      "[[1. 1. 1.]\n",
      " [1. 1. 1.]\n",
      " [1. 1. 1.]\n",
      " [1. 1. 1.]]\n"
     ]
    }
   ],
   "source": [
    "# ones\n",
    "my_array = np.ones(3)\n",
    "print(my_array)\n",
    "# 2d\n",
    "my_array = np.ones((4, 3))\n",
    "print(my_array)"
   ]
  },
  {
   "cell_type": "code",
   "execution_count": 24,
   "id": "1efe4fe1",
   "metadata": {},
   "outputs": [
    {
     "name": "stdout",
     "output_type": "stream",
     "text": [
      "[0 1 2 3]\n",
      "[4 5 6 7 8 9]\n",
      "[4 6 8]\n"
     ]
    }
   ],
   "source": [
    "# arrange\n",
    "my_array = np.arange(4)\n",
    "print(my_array)\n",
    "# 4 to 10\n",
    "my_array = np.arange(4, 10)\n",
    "print(my_array)\n",
    "# 4 to 10 skippin 2 steps\n",
    "my_array = np.arange(4, 10, 2)\n",
    "print(my_array)"
   ]
  },
  {
   "cell_type": "code",
   "execution_count": null,
   "id": "93cbfa88",
   "metadata": {},
   "outputs": [
    {
     "data": {
      "text/plain": [
       "array([3. , 3.3, 3.6, 3.9, 4.2, 4.5, 4.8, 5.1, 5.4, 5.7])"
      ]
     },
     "execution_count": 28,
     "metadata": {},
     "output_type": "execute_result"
    }
   ],
   "source": [
    "# linspace\n",
    "# start stop total\n",
    "my_array = np.linspace(3, 6, 10)\n",
    "my_array\n",
    "my_array = np.linspace(3, 6, 10, endpoint=False)\n",
    "my_array"
   ]
  },
  {
   "cell_type": "code",
   "execution_count": null,
   "id": "c5a8fc1b",
   "metadata": {},
   "outputs": [
    {
     "name": "stdout",
     "output_type": "stream",
     "text": [
      "0.45950052957485477\n",
      "[[0.50728519 0.2676424 ]\n",
      " [0.22369906 0.44628877]]\n"
     ]
    }
   ],
   "source": [
    "# random.rand()\n",
    "my_array = np.random.rand()\n",
    "print(my_array)\n",
    "# 2d\n",
    "my_array = np.random.rand(2, 2)\n",
    "print(my_array)"
   ]
  },
  {
   "cell_type": "code",
   "execution_count": null,
   "id": "088387c0",
   "metadata": {},
   "outputs": [
    {
     "name": "stdout",
     "output_type": "stream",
     "text": [
      "[[0.50728519 0.2676424 ]\n",
      " [0.22369906 0.44628877]]\n"
     ]
    }
   ],
   "source": [
    "# empty()\n",
    "my_array = np.empty((2, 2))\n",
    "print(my_array)\n",
    "# Unlike numpy.zeros(), this function initializes the array with uninitialized values, which could be any random data left in memory, making it suitable for cases where immediate initialization is not required."
   ]
  },
  {
   "cell_type": "code",
   "execution_count": null,
   "id": "aadcb19b",
   "metadata": {},
   "outputs": [
    {
     "name": "stdout",
     "output_type": "stream",
     "text": [
      "[4 4 4 4 4 4]\n",
      "[[3 3]\n",
      " [3 3]\n",
      " [3 3]]\n",
      "[[[5 5]\n",
      "  [5 5]]\n",
      "\n",
      " [[5 5]\n",
      "  [5 5]]\n",
      "\n",
      " [[5 5]\n",
      "  [5 5]]]\n"
     ]
    }
   ],
   "source": [
    "# full()\n",
    "# t(otal, fill)\n",
    "my_array = np.full(6, 4)\n",
    "print(my_array)\n",
    "# 2d\n",
    "my_array = np.full((3, 2), 3)\n",
    "print(my_array)\n",
    "# 3d\n",
    "my_array = np.full((3, 2, 2), 5)\n",
    "print(my_array)"
   ]
  }
 ],
 "metadata": {
  "kernelspec": {
   "display_name": "Python 3",
   "language": "python",
   "name": "python3"
  },
  "language_info": {
   "codemirror_mode": {
    "name": "ipython",
    "version": 3
   },
   "file_extension": ".py",
   "mimetype": "text/x-python",
   "name": "python",
   "nbconvert_exporter": "python",
   "pygments_lexer": "ipython3",
   "version": "3.11.0"
  }
 },
 "nbformat": 4,
 "nbformat_minor": 5
}
